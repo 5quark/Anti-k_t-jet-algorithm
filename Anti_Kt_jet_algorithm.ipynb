{
  "nbformat": 4,
  "nbformat_minor": 0,
  "metadata": {
    "colab": {
      "name": "Anti-Kt jet algorithm.ipynb",
      "provenance": [],
      "authorship_tag": "ABX9TyME8PB0/rws1ecueRr39yyu",
      "include_colab_link": true
    },
    "kernelspec": {
      "name": "python3",
      "display_name": "Python 3"
    },
    "language_info": {
      "name": "python"
    }
  },
  "cells": [
    {
      "cell_type": "markdown",
      "metadata": {
        "id": "view-in-github",
        "colab_type": "text"
      },
      "source": [
        "<a href=\"https://colab.research.google.com/github/5quark/Anti-k_t-jet-algorithm/blob/main/Anti_Kt_jet_algorithm.ipynb\" target=\"_parent\"><img src=\"https://colab.research.google.com/assets/colab-badge.svg\" alt=\"Open In Colab\"/></a>"
      ]
    },
    {
      "cell_type": "code",
      "execution_count": null,
      "metadata": {
        "id": "DUzzawvBAygu"
      },
      "outputs": [],
      "source": [
        "from math import sqrt\n",
        "import numpy as np\n",
        "import pandas as pd"
      ]
    },
    {
      "cell_type": "markdown",
      "source": [
        "$d_{ij} =min(\\frac{1}{k^2_{T,i}}, \\frac{1}{k^2_{T,j}})\\frac{𝚫^2_{ij}}{R^2}  $, i and j for the indices of two particles. \n",
        "where\n",
        "$\\Delta_{i j}^{2}=\\left(\\eta_{i}-\\eta_{j}\\right)^{2}+\\left(\\phi_{i}-\\phi_{j}\\right)^{2}\n",
        "$, \n",
        "$\\eta$ is the pseudorapidity and $\\phi$ is the azimuth angle.\n",
        "$d_{iB}=\\frac{1}{k^2_{T,i}}$,   B refers to beam axis.\n",
        "\n",
        "In the limit where the particle is travelling close to the speed of light,\n",
        "$\\eta≈y=\\frac{1}{2}\\ln(\\frac{E+P_T}{E-P_T})$ \n",
        "Where\n",
        "$P_T$: Transverse momentum. This case I took it as $p_z$\n"
      ],
      "metadata": {
        "id": "yradmLR_T1UR"
      }
    },
    {
      "cell_type": "code",
      "source": [
        "#This cell is for taking the data from the file. \n",
        "data=pd.read_csv(\"#FILE NAME\",sep=\" \",header=None)\n",
        "k_t=[]\n",
        "phi=[]\n",
        "eta=[]\n",
        "p_x=[]\n",
        "p_y=[]\n",
        "p_z=[]\n",
        "E=[]\n",
        "jets=[]\n",
        "n=20\n",
        "for i in range(n):\n",
        "    k_t.append(sqrt(data.iloc[i][0]**2+data.iloc[i][1]**2))\n",
        "    phi.append(np.arctan(data.iloc[i][1]/data.iloc[i][0]))\n",
        "    eta.append(np.log((data.iloc[i][2] + data.iloc[i][3])/(data.iloc[i][3]-data.iloc[i][2]))/2)  \n",
        "    p_x.append(data.iloc[i, 0])\n",
        "    p_y.append(data.iloc[i, 1])\n",
        "    p_z.append(data.iloc[i, 2])\n",
        "    E.append(data.iloc[i, 3])\n",
        "          \n",
        "k_t=np.array(k_t)\n",
        "k_t2=k_t**2\n",
        "phi=np.array(phi)\n",
        "eta=np.array(eta)\n",
        "p_x=np.array(p_x)\n",
        "p_y=np.array(p_y)\n",
        "p_z=np.array(p_z)\n",
        "E=np.array(E)\n",
        "d_iB=1/k_t**2\n",
        "jets=np.array(jets)"
      ],
      "metadata": {
        "id": "ProWm2T6A6Xv"
      },
      "execution_count": null,
      "outputs": []
    },
    {
      "cell_type": "code",
      "source": [
        "#function that I will run in each iteration. \n",
        "def func(p_x,p_y,p_z,E,jets):\n",
        "    n=len(p_x)\n",
        "    #create k_t, phi and eta arrays\n",
        "    k_t=[]\n",
        "    phi=[]\n",
        "    eta=[]\n",
        "    k_t=np.array(k_t)\n",
        "    \n",
        "    phi=np.array(phi)\n",
        "    eta=np.array(eta)\n",
        "    for i in range(n):\n",
        "        k_t=np.append(k_t,sqrt(p_x[i]**2+p_y[i]**2))\n",
        "        phi=np.append(phi,np.arctan(p_y[i] / p_x[i]))\n",
        "        eta=np.append(eta,np.log((p_z[i] + E[i])/( E[i]-p_z[i]))/2) \n",
        "    \n",
        "\n",
        "    #create d_ij and d_iB\n",
        "    k_t2=k_t**2\n",
        "    d_iB=1/k_t**2\n",
        "    d_ij=np.zeros((n,n))\n",
        "    R=1.0 #I set the distance paramater to 1.0\n",
        "    for i in range(n):\n",
        "        for j in range(n):\n",
        "            delta=(eta[i]-eta[j])**2 + (phi[i]-phi[j])**2\n",
        "            d_ij[i][j]= np.minimum(k_t2[i],k_t2[j])*delta**2/R**2\n",
        "\n",
        "\n",
        "    #find the minimum of the d_ij\n",
        "    min_d_ij=100 #random number\n",
        "    for i in range(n):\n",
        "        for j in range(n):\n",
        "            if(i != j and d_ij[i][j]<min_d_ij): \n",
        "                        min_d_ij=d_ij[i][j]         \n",
        "                        row=i\n",
        "                        column=j\n",
        "\n",
        "\n",
        "    if( d_iB[row]>d_ij[row][column] or d_iB[column]>d_ij[row][column])  :   #combine i^th and j^th particles.\n",
        "        min=min_d_ij\n",
        "        new_px=p_x[row]+p_x[column]\n",
        "        new_py=p_y[row]+p_y[column]\n",
        "        new_pz=p_z[row]+p_z[column]\n",
        "        new_E=E[row]+E[column]\n",
        "        p_x=np.append(p_x,new_px)\n",
        "        p_y=np.append(p_y,new_py)\n",
        "        p_z=np.append(p_z,new_pz)\n",
        "        E=np.append(E,new_E)\n",
        "        p_x=np.delete(p_x,[row,column])\n",
        "        p_y=np.delete(p_y,[row,column])\n",
        "        p_z=np.delete(p_z,[row,column])\n",
        "        E=np.delete(E,[row,column])\n",
        "\n",
        "    else:                      #declare ith particle as a jet and remove it from the list of particles. \n",
        "        jets=np.append(jets,( p_x[np.argmin(d_iB)], p_y[np.argmin(d_iB)],p_z[np.argmin(d_iB)],E[np.argmin(d_iB)] ))\n",
        "        p_x=np.delete(p_x,[np.argmin(d_iB)])\n",
        "        p_y=np.delete(p_y,[np.argmin(d_iB)])\n",
        "        p_z=np.delete(p_z,[np.argmin(d_iB)])\n",
        "        E=np.delete(E,[np.argmin(d_iB)])\n",
        "\n",
        "    return p_x,p_y,p_z,E,jets\n",
        "        "
      ],
      "metadata": {
        "id": "rG3gzI6fBKcV"
      },
      "execution_count": null,
      "outputs": []
    },
    {
      "cell_type": "code",
      "source": [
        "#run the function until encounter an error, this case having less than 2 elements in four vectors\n",
        "while True:\n",
        "    try:\n",
        "        p_x,p_y,p_z,E,jets=func(p_x,p_y,p_z,E,jets)\n",
        "    except:\n",
        "         break\n",
        "jets=np.append(jets,(p_x,p_y,p_z,E)) # In the p_x,p_y,p_z and E arrays there were only one element in each. I am adding them to the jets array.\n",
        "print(jets)"
      ],
      "metadata": {
        "id": "6Auo6oKKQx1i"
      },
      "execution_count": null,
      "outputs": []
    }
  ]
}